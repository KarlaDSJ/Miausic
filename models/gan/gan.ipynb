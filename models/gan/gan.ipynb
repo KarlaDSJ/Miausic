{
 "cells": [
  {
   "cell_type": "code",
   "execution_count": 2,
   "metadata": {},
   "outputs": [],
   "source": [
    "from music21 import converter, note, chord, environment\n",
    "'''from mingus.containers.note import Note\n",
    "from mingus.containers.note_container import NoteContainer\n",
    "from mingus.containers.bar import Bar\n",
    "from mingus.containers.track import Track\n",
    "from mingus.containers.composition import Composition\n",
    "from mingus.containers.instrument import MidiInstrument\n",
    "from mingus.midi import midi_file_in\n",
    "import mingus.core.notes as notes\n",
    "import mingus.core.intervals as intervals'''\n",
    "import glob\n",
    "import pandas as pd\n",
    "import numpy as np\n",
    "import pickle\n",
    "from gan import GAN\n"
   ]
  },
  {
   "cell_type": "markdown",
   "metadata": {},
   "source": [
    "# Instalamos MuseScore para visualizar la partitura\n",
    "\n",
    "Indicamamos la ruta"
   ]
  },
  {
   "cell_type": "code",
   "execution_count": 12,
   "metadata": {},
   "outputs": [],
   "source": [
    "environment.set(\"musescoreDirectPNGPath\", \"/Applications/MuseScore 4.app/Contents/MacOS/mscore\")"
   ]
  },
  {
   "cell_type": "markdown",
   "metadata": {},
   "source": [
    "# Cargamos los datos "
   ]
  },
  {
   "cell_type": "code",
   "execution_count": 13,
   "metadata": {},
   "outputs": [],
   "source": [
    "def get_notes(files):\n",
    "    \"\"\"Obtenemos todas las notas y acordes de cada archivo midi\"\"\"\n",
    "    notes = []\n",
    "    duration = []\n",
    "\n",
    "\n",
    "    for file in files:\n",
    "        midi = converter.parse(file)\n",
    "        notes_to_parse = midi.flat.notes\n",
    "        print(\"Parsing %s\" % file)\n",
    "\n",
    "        for element in notes_to_parse:\n",
    "            if isinstance(element, note.Note):\n",
    "                notes.append(str(element.pitch))\n",
    "                duration.append(element.duration.quarterLength)\n",
    "            elif isinstance(element, chord.Chord):\n",
    "                notes.append(' '.join(str(n) for n in element.pitches))\n",
    "                duration.append(element.duration.quarterLength)\n",
    "\n",
    "    return pd.DataFrame.from_dict({'pitch': notes, 'duration': duration}).drop_duplicates()"
   ]
  },
  {
   "cell_type": "code",
   "execution_count": null,
   "metadata": {},
   "outputs": [],
   "source": [
    "songs = glob.glob('dataset/**/*')\n",
    "notes = get_notes(songs)"
   ]
  },
  {
   "cell_type": "code",
   "execution_count": 15,
   "metadata": {},
   "outputs": [
    {
     "name": "stdout",
     "output_type": "stream",
     "text": [
      "Number of files: 262\n"
     ]
    },
    {
     "data": {
      "text/html": [
       "<div>\n",
       "<style scoped>\n",
       "    .dataframe tbody tr th:only-of-type {\n",
       "        vertical-align: middle;\n",
       "    }\n",
       "\n",
       "    .dataframe tbody tr th {\n",
       "        vertical-align: top;\n",
       "    }\n",
       "\n",
       "    .dataframe thead th {\n",
       "        text-align: right;\n",
       "    }\n",
       "</style>\n",
       "<table border=\"1\" class=\"dataframe\">\n",
       "  <thead>\n",
       "    <tr style=\"text-align: right;\">\n",
       "      <th></th>\n",
       "      <th>pitch</th>\n",
       "      <th>duration</th>\n",
       "    </tr>\n",
       "  </thead>\n",
       "  <tbody>\n",
       "    <tr>\n",
       "      <th>0</th>\n",
       "      <td>B-4</td>\n",
       "      <td>2.0</td>\n",
       "    </tr>\n",
       "    <tr>\n",
       "      <th>1</th>\n",
       "      <td>B-3</td>\n",
       "      <td>2.0</td>\n",
       "    </tr>\n",
       "    <tr>\n",
       "      <th>2</th>\n",
       "      <td>F4</td>\n",
       "      <td>1.0</td>\n",
       "    </tr>\n",
       "    <tr>\n",
       "      <th>3</th>\n",
       "      <td>F3</td>\n",
       "      <td>1.0</td>\n",
       "    </tr>\n",
       "    <tr>\n",
       "      <th>4</th>\n",
       "      <td>D4</td>\n",
       "      <td>2.0</td>\n",
       "    </tr>\n",
       "    <tr>\n",
       "      <th>...</th>\n",
       "      <td>...</td>\n",
       "      <td>...</td>\n",
       "    </tr>\n",
       "    <tr>\n",
       "      <th>296290</th>\n",
       "      <td>C#4 F4 C#5 A4</td>\n",
       "      <td>1.0</td>\n",
       "    </tr>\n",
       "    <tr>\n",
       "      <th>296296</th>\n",
       "      <td>B-2</td>\n",
       "      <td>6.75</td>\n",
       "    </tr>\n",
       "    <tr>\n",
       "      <th>296332</th>\n",
       "      <td>C6 C5</td>\n",
       "      <td>1/3</td>\n",
       "    </tr>\n",
       "    <tr>\n",
       "      <th>296338</th>\n",
       "      <td>B-4 B-5</td>\n",
       "      <td>6.0</td>\n",
       "    </tr>\n",
       "    <tr>\n",
       "      <th>296339</th>\n",
       "      <td>B-2 B-1</td>\n",
       "      <td>6.0</td>\n",
       "    </tr>\n",
       "  </tbody>\n",
       "</table>\n",
       "<p>20941 rows × 2 columns</p>\n",
       "</div>"
      ],
      "text/plain": [
       "                pitch duration\n",
       "0                 B-4      2.0\n",
       "1                 B-3      2.0\n",
       "2                  F4      1.0\n",
       "3                  F3      1.0\n",
       "4                  D4      2.0\n",
       "...               ...      ...\n",
       "296290  C#4 F4 C#5 A4      1.0\n",
       "296296            B-2     6.75\n",
       "296332          C6 C5      1/3\n",
       "296338        B-4 B-5      6.0\n",
       "296339        B-2 B-1      6.0\n",
       "\n",
       "[20941 rows x 2 columns]"
      ]
     },
     "execution_count": 15,
     "metadata": {},
     "output_type": "execute_result"
    }
   ],
   "source": [
    "print('Number of files:', len(songs))\n",
    "notes"
   ]
  },
  {
   "cell_type": "markdown",
   "metadata": {},
   "source": [
    "# Guardamos\n",
    "\n",
    "Guardamos en un archivo el objeto notes para no procesarlo cada vez"
   ]
  },
  {
   "cell_type": "code",
   "execution_count": 16,
   "metadata": {},
   "outputs": [],
   "source": [
    "with open('objects/notes.pickle', 'wb') as f:\n",
    "    pickle.dump(notes, f)"
   ]
  },
  {
   "cell_type": "markdown",
   "metadata": {},
   "source": [
    "### GAN"
   ]
  },
  {
   "cell_type": "code",
   "execution_count": 5,
   "metadata": {},
   "outputs": [
    {
     "name": "stdout",
     "output_type": "stream",
     "text": [
      "Model: \"sequential_3\"\n",
      "_________________________________________________________________\n",
      " Layer (type)                Output Shape              Param #   \n",
      "=================================================================\n",
      " dense_8 (Dense)             (None, 256)               25856     \n",
      "                                                                 \n",
      " leaky_re_lu_6 (LeakyReLU)   (None, 256)               0         \n",
      "                                                                 \n",
      " batch_normalization_3 (Bat  (None, 256)               1024      \n",
      " chNormalization)                                                \n",
      "                                                                 \n",
      " dense_9 (Dense)             (None, 512)               131584    \n",
      "                                                                 \n",
      " leaky_re_lu_7 (LeakyReLU)   (None, 512)               0         \n",
      "                                                                 \n",
      " batch_normalization_4 (Bat  (None, 512)               2048      \n",
      " chNormalization)                                                \n",
      "                                                                 \n",
      " dense_10 (Dense)            (None, 1024)              525312    \n",
      "                                                                 \n",
      " leaky_re_lu_8 (LeakyReLU)   (None, 1024)              0         \n",
      "                                                                 \n",
      " batch_normalization_5 (Bat  (None, 1024)              4096      \n",
      " chNormalization)                                                \n",
      "                                                                 \n",
      " dense_11 (Dense)            (None, 100)               102500    \n",
      "                                                                 \n",
      " reshape_1 (Reshape)         (None, 100, 1)            0         \n",
      "                                                                 \n",
      "=================================================================\n",
      "Total params: 792420 (3.02 MB)\n",
      "Trainable params: 788836 (3.01 MB)\n",
      "Non-trainable params: 3584 (14.00 KB)\n",
      "_________________________________________________________________\n",
      "2/2 [==============================] - 0s 2ms/step\n",
      "0 [D loss: 0.691845, acc.: 72.66%] [G loss: 0.693306]\n",
      "WARNING:tensorflow:Compiled the loaded model, but the compiled metrics have yet to be built. `model.compile_metrics` will be empty until you train or evaluate the model.\n",
      "2/2 [==============================] - 0s 2ms/step\n"
     ]
    },
    {
     "name": "stderr",
     "output_type": "stream",
     "text": [
      "/Users/karladsj/Documents/Semestre I/IA/Miausic/venv/lib/python3.9/site-packages/keras/src/engine/training.py:3103: UserWarning: You are saving your model as an HDF5 file via `model.save()`. This file format is considered legacy. We recommend using instead the native Keras format, e.g. `model.save('my_model.keras')`.\n",
      "  saving_api.save_model(\n"
     ]
    },
    {
     "name": "stdout",
     "output_type": "stream",
     "text": [
      "1 [D loss: 0.690620, acc.: 92.97%] [G loss: 0.693432]\n",
      "2/2 [==============================] - 0s 2ms/step\n",
      "2 [D loss: 0.689447, acc.: 90.62%] [G loss: 0.693295]\n",
      "2/2 [==============================] - 0s 2ms/step\n",
      "3 [D loss: 0.688322, acc.: 84.38%] [G loss: 0.693355]\n",
      "2/2 [==============================] - 0s 2ms/step\n",
      "4 [D loss: 0.688126, acc.: 77.34%] [G loss: 0.693400]\n",
      "2/2 [==============================] - 0s 2ms/step\n",
      "5 [D loss: 0.686846, acc.: 80.47%] [G loss: 0.693331]\n",
      "2/2 [==============================] - 0s 2ms/step\n",
      "6 [D loss: 0.686255, acc.: 73.44%] [G loss: 0.693020]\n",
      "2/2 [==============================] - 0s 2ms/step\n",
      "7 [D loss: 0.685988, acc.: 75.78%] [G loss: 0.692612]\n",
      "2/2 [==============================] - 0s 4ms/step\n",
      "8 [D loss: 0.684352, acc.: 72.66%] [G loss: 0.692876]\n",
      "2/2 [==============================] - 0s 2ms/step\n",
      "9 [D loss: 0.684240, acc.: 71.09%] [G loss: 0.692298]\n",
      "2/2 [==============================] - 0s 2ms/step\n",
      "10 [D loss: 0.683877, acc.: 67.19%] [G loss: 0.692283]\n",
      "2/2 [==============================] - 0s 2ms/step\n",
      "11 [D loss: 0.680344, acc.: 80.47%] [G loss: 0.691505]\n",
      "2/2 [==============================] - 0s 2ms/step\n",
      "12 [D loss: 0.679633, acc.: 75.00%] [G loss: 0.692739]\n",
      "2/2 [==============================] - 0s 2ms/step\n",
      "13 [D loss: 0.678863, acc.: 77.34%] [G loss: 0.691652]\n",
      "2/2 [==============================] - 0s 1ms/step\n",
      "14 [D loss: 0.681206, acc.: 69.53%] [G loss: 0.690984]\n",
      "2/2 [==============================] - 0s 2ms/step\n",
      "15 [D loss: 0.679997, acc.: 69.53%] [G loss: 0.689627]\n",
      "2/2 [==============================] - 0s 4ms/step\n",
      "16 [D loss: 0.675858, acc.: 75.00%] [G loss: 0.689814]\n",
      "2/2 [==============================] - 0s 2ms/step\n",
      "17 [D loss: 0.677357, acc.: 74.22%] [G loss: 0.690225]\n",
      "2/2 [==============================] - 0s 2ms/step\n",
      "18 [D loss: 0.672540, acc.: 73.44%] [G loss: 0.687458]\n",
      "2/2 [==============================] - 0s 1ms/step\n",
      "19 [D loss: 0.670990, acc.: 75.00%] [G loss: 0.687459]\n",
      "2/2 [==============================] - 0s 2ms/step\n",
      "20 [D loss: 0.673525, acc.: 69.53%] [G loss: 0.688869]\n",
      "2/2 [==============================] - 0s 1ms/step\n",
      "21 [D loss: 0.669047, acc.: 73.44%] [G loss: 0.687283]\n",
      "2/2 [==============================] - 0s 3ms/step\n",
      "22 [D loss: 0.668528, acc.: 74.22%] [G loss: 0.686285]\n",
      "2/2 [==============================] - 0s 2ms/step\n",
      "23 [D loss: 0.658895, acc.: 78.91%] [G loss: 0.688111]\n",
      "2/2 [==============================] - 0s 1ms/step\n",
      "24 [D loss: 0.665638, acc.: 68.75%] [G loss: 0.692396]\n",
      "2/2 [==============================] - 0s 2ms/step\n",
      "25 [D loss: 0.664430, acc.: 73.44%] [G loss: 0.690529]\n",
      "2/2 [==============================] - 0s 2ms/step\n",
      "26 [D loss: 0.657290, acc.: 72.66%] [G loss: 0.687670]\n",
      "2/2 [==============================] - 0s 1ms/step\n",
      "27 [D loss: 0.657042, acc.: 72.66%] [G loss: 0.692005]\n",
      "2/2 [==============================] - 0s 2ms/step\n",
      "28 [D loss: 0.650191, acc.: 73.44%] [G loss: 0.687059]\n",
      "2/2 [==============================] - 0s 2ms/step\n",
      "29 [D loss: 0.652633, acc.: 71.09%] [G loss: 0.691614]\n",
      "2/2 [==============================] - 0s 2ms/step\n",
      "30 [D loss: 0.645090, acc.: 71.88%] [G loss: 0.696320]\n",
      "2/2 [==============================] - 0s 2ms/step\n",
      "31 [D loss: 0.643601, acc.: 73.44%] [G loss: 0.690228]\n",
      "2/2 [==============================] - 0s 1ms/step\n",
      "32 [D loss: 0.644855, acc.: 70.31%] [G loss: 0.690101]\n",
      "2/2 [==============================] - 0s 2ms/step\n",
      "33 [D loss: 0.624116, acc.: 77.34%] [G loss: 0.692625]\n",
      "2/2 [==============================] - 0s 1ms/step\n",
      "34 [D loss: 0.641345, acc.: 67.97%] [G loss: 0.691014]\n",
      "2/2 [==============================] - 0s 1ms/step\n",
      "35 [D loss: 0.612673, acc.: 73.44%] [G loss: 0.691533]\n",
      "2/2 [==============================] - 0s 2ms/step\n",
      "36 [D loss: 0.618324, acc.: 68.75%] [G loss: 0.684819]\n",
      "2/2 [==============================] - 0s 2ms/step\n",
      "37 [D loss: 0.588763, acc.: 69.53%] [G loss: 0.675681]\n",
      "2/2 [==============================] - 0s 1ms/step\n",
      "38 [D loss: 0.597428, acc.: 71.09%] [G loss: 0.672031]\n",
      "2/2 [==============================] - 0s 1ms/step\n",
      "39 [D loss: 0.580620, acc.: 71.88%] [G loss: 0.685834]\n",
      "2/2 [==============================] - 0s 1ms/step\n",
      "40 [D loss: 0.563062, acc.: 70.31%] [G loss: 0.677990]\n",
      "2/2 [==============================] - 0s 2ms/step\n",
      "41 [D loss: 0.555750, acc.: 71.88%] [G loss: 0.664815]\n",
      "2/2 [==============================] - 0s 2ms/step\n",
      "42 [D loss: 0.537428, acc.: 68.75%] [G loss: 0.688710]\n",
      "2/2 [==============================] - 0s 2ms/step\n",
      "43 [D loss: 0.520075, acc.: 71.09%] [G loss: 0.673828]\n",
      "2/2 [==============================] - 0s 2ms/step\n",
      "44 [D loss: 0.514701, acc.: 67.19%] [G loss: 0.678378]\n",
      "2/2 [==============================] - 0s 2ms/step\n",
      "45 [D loss: 0.486213, acc.: 73.44%] [G loss: 0.681325]\n",
      "2/2 [==============================] - 0s 2ms/step\n",
      "46 [D loss: 0.475032, acc.: 72.66%] [G loss: 0.656214]\n",
      "2/2 [==============================] - 0s 1ms/step\n",
      "47 [D loss: 0.453025, acc.: 75.00%] [G loss: 0.638762]\n",
      "2/2 [==============================] - 0s 2ms/step\n",
      "48 [D loss: 0.472115, acc.: 70.31%] [G loss: 0.693354]\n",
      "2/2 [==============================] - 0s 1ms/step\n",
      "49 [D loss: 0.481932, acc.: 69.53%] [G loss: 0.680462]\n"
     ]
    },
    {
     "data": {
      "image/png": "[encoded data removed]",
      "text/plain": [
       "<Figure size 640x480 with 1 Axes>"
      ]
     },
     "metadata": {
      "image/png": {
       "height": 454,
       "width": 576
      }
     },
     "output_type": "display_data"
    }
   ],
   "source": [
    "#pickle_file = open('objects/notes.pickle', 'rb')\n",
    "#lista_fichero = pickle.load(pickle_file)\n",
    "gan = GAN(notes)\n",
    "gan.train(50)"
   ]
  },
  {
   "cell_type": "markdown",
   "metadata": {},
   "source": [
    "# Generamos"
   ]
  },
  {
   "cell_type": "code",
   "execution_count": 1,
   "metadata": {},
   "outputs": [
    {
     "name": "stderr",
     "output_type": "stream",
     "text": [
      "/Users/karladsj/Documents/Semestre I/IA/Miausic/venv/lib/python3.9/site-packages/urllib3/__init__.py:34: NotOpenSSLWarning: urllib3 v2 only supports OpenSSL 1.1.1+, currently the 'ssl' module is compiled with 'LibreSSL 2.8.3'. See: https://github.com/urllib3/urllib3/issues/3020\n",
      "  warnings.warn(\n"
     ]
    },
    {
     "name": "stdout",
     "output_type": "stream",
     "text": [
      "WARNING:tensorflow:No training configuration found in the save file, so the model was *not* compiled. Compile it manually.\n",
      "1/1 [==============================] - 0s 63ms/step\n",
      "['E b F3', 'G G4', 'F G B5 G#5', 'C F C3 E-3 G3', 'D G A5 F#5 D5', 'E b E b C#6 E-5', 'F D2 D3', 'C B-5', 'B b A4 C#5', 'C C#5 C#4', 'B b G2', 'C C4 F#3', 'B b D4 B-4', 'E b A b B-4 F5', 'F D C#6 B-6', 'C B b B-2 C#3', 'B b C#5 A4', 'F D4 B-3', 'A b G6 E-7', 'A b D B-5 G#5', 'C D3 C#3', 'A2', 'C D3 A2', 'D E b E7 B6', 'A b B-4 B-5', 'G C B-5 E5', 'C G C#5 C#6', 'G G2 C3', 'C E-4 C#4', 'F E5', 'C B6 C#7', 'B b E-4 E-3', 'F F#3', 'F F G#5 E5 C#5', 'A b B-4 F#5', 'D C#7 F6', 'A b C C C#5 A4 E4', 'E b B-4 F#4', 'C C E-3 F2', 'D D3 B2', 'B b G#3 E3', 'G A4 D4', 'A b A3 E3', 'C D F#5 D6 A5', 'C G#5 D5', 'E b D5', 'C B-4 D5', 'C B3 G#3', 'C G4 G5', 'B b C F#2 E-2', 'D F#5', 'F B5', 'B-0', 'C G2 A2', 'C C#6 C#5', 'G E b F#5 B-5', 'C G5', 'F C D4 F#3', 'E b F G3 D4', 'G B-5 G#5', 'C F#3', 'C E-5 C5', 'A b F A5 E5', 'F B2 E-3', 'B b G2', 'C B-5 E5', 'D G5', 'F D4 G3', 'A b A b F5 D5', 'G A b F2 A2', 'C G G5 E5', 'A b C4 G3', 'C F#7 D7', 'B5', 'F E b F#5 A5', 'C C4 D8', 'E b G5 B-5', 'A b G3 D2', 'F F D3 F3', 'E b C B3 B-5 B-4', 'G F4 C4', 'C C C6 E-6', 'F D3', 'D D3 B2', 'C F E-5 F#5', 'C F G#3 G#2', 'D E b G#5 C#6', 'D D G#5 G#6', 'G C E-4 C4', 'F F G#2 F2', 'G G#2 C3', 'F B2', 'C C#5 C#4', 'G A1 D2', 'G E6', 'G B b F5 G5', 'G C7', 'F D5 C5', 'B b C C5 A5', 'B b D B-5 C#6']\n"
     ]
    },
    {
     "data": {
      "text/html": [
       "\n",
       "                <div id=\"midiPlayerDiv518\"></div>\n",
       "                <link rel=\"stylesheet\" href=\"https://cuthbertLab.github.io/music21j/css/m21.css\">\n",
       "                \n",
       "                <script>\n",
       "                require.config({\n",
       "                    paths: {\n",
       "                        'music21': 'https://cuthbertLab.github.io/music21j/releases/music21.debug',\n",
       "                    }\n",
       "                });\n",
       "                require(['music21'], function(music21) {\n",
       "                    mp = new music21.miditools.MidiPlayer();\n",
       "                    mp.addPlayer(\"#midiPlayerDiv518\");\n",
       "                    mp.base64Load(\"data:audio/midi;base64,TVRoZAAAAAYAAQACBABNVHJrAAAAFAD/UQMHoSAA/1gEBAIYCIgA/y8ATVRyawAABU0A/wMFUGlhbm8AwAAA4ABAAMAAiACQQFqIAIBAAACQQ1qIAIBDAACQQVoAkENaiACAQQAAgEMAAJA8WgCQQVqIAIA8AACAQQAAkD5aAJBDWogAgD4AAIBDAACQQFoAkEdaAJBAWogAgEAAAIBHAACAQAAAkEFaiACAQQAAkDxaiACAPAAAkEdaAJBHWogAgEcAAIBHAACQPFqIAIA8AACQR1qIAIBHAACQPFqIAIA8AACQR1oAkEdaiACARwAAgEcAAJBAWgCQR1oAkEVaiACAQAAAgEcAAIBFAACQQVoAkD5aiACAQQAAgD4AAJA8WgCQR1qIAIA8AACARwAAkEdaAJBHWogAgEcAAIBHAACQQVqIAIBBAACQRVoAkEdaiACARQAAgEcAAJBFWgCQR1qIAIBFAACARwAAkDxaiACAPAAAkC1aiACALQAAkDxaiACAPAAAkD5aAJBAWogAgD4AAIBAAACQRVoAkEdaiACARQAAgEcAAJBDWgCQPFqIAIBDAACAPAAAkDxaAJBDWogAgDwAAIBDAACQQ1qIAIBDAACQPFqIAIA8AACQQVqIAIBBAACQPFqIAIA8AACQR1oAkEdaiACARwAAgEcAAJBBWogAgEEAAJBBWgCQQVqIAIBBAACAQQAAkEVaAJBHWogAgEUAAIBHAACQPlqIAIA+AACQRVoAkEdaAJA8WogAgEUAAIBHAACAPAAAkEBaAJBHWogAgEAAAIBHAACQPFoAkDxaiACAPAAAgDwAAJA+WogAgD4AAJBHWgCQR1qIAIBHAACARwAAkENaiACAQwAAkEVaAJBHWogAgEUAAIBHAACQPFoAkD5aiACAPAAAgD4AAJA8WogAgDwAAJBAWogAgEAAAJA8WogAgDwAAJA8WogAgDwAAJA8WogAgDwAAJBHWgCQR1qIAIBHAACARwAAkD5aiACAPgAAkEFaiACAQQAAkBZaiACAFgAAkDxaiACAPAAAkDxaiACAPAAAkENaAJBAWogAgEMAAIBAAACQPFqIAIA8AACQQVoAkDxaiACAQQAAgDwAAJBAWgCQR1qIAIBAAACARwAAkENaiACAQwAAkDxaiACAPAAAkDxaiACAPAAAkEVaAJBHWogAgEUAAIBHAACQQVqIAIBBAACQR1qIAIBHAACQPFqIAIA8AACQPlqIAIA+AACQQVqIAIBBAACQRVoAkEdaAJBFWogAgEUAAIBHAACARQAAkENaAJBFWogAgEMAAIBFAACQPFoAkENaiACAPAAAgEMAAJBFWgCQR1qIAIBFAACARwAAkDxaiACAPAAAkFNaiACAUwAAkEFaAJBAWogAgEEAAIBAAACQPFqIAIA8AACQQFoAkEdaiACAQAAAgEcAAJBFWgCQR1qIAIBFAACARwAAkEFaAJBBWogAgEEAAIBBAACQQFoAkEdaAJA8WogAgEAAAIBHAACAPAAAkENaiACAQwAAkDxaAJA8WogAgDwAAIA8AACQQVqIAIBBAACQPlqIAIA+AACQPFoAkEFaiACAPAAAgEEAAJA8WgCQQVqIAIA8AACAQQAAkD5aAJBAWogAgD4AAIBAAACQPloAkD5aiACAPgAAgD4AAJBDWgCQPFqIAIBDAACAPAAAkEFaAJBBWogAgEEAAIBBAACQQ1qIAIBDAACQQVqIAIBBAACQPFqIAIA8AACQQ1qIAIBDAACQQ1qIAIBDAACQQ1oAkEdaiACAQwAAgEcAAJBDWogAgEMAAJBBWogAgEEAAJBHWgCQR1qIAIBHAACARwAAkEdaAJBHWogAgEcAAIBHAIgA/y8A\");\n",
       "                });\n",
       "                </script>"
      ],
      "text/plain": [
       "<IPython.core.display.HTML object>"
      ]
     },
     "metadata": {},
     "output_type": "display_data"
    }
   ],
   "source": [
    "from gan_music import *\n",
    "import mingus.core.scales as scales\n",
    "from music21 import converter, note, chord, environment\n",
    "import pandas as pd\n",
    "import numpy as np\n",
    "import pickle\n",
    "from gan import GAN\n",
    "\n",
    "with open('objects/notes.pickle', 'rb') as f:\n",
    "    notes = pickle.load(f)\n",
    "    generated_music = get_music('objects/generator_model.h5', np.array(notes['pitch']),scales.NaturalMinor('C').ascending()+scales.NaturalMinor('C').descending())\n",
    "    print(generated_music)\n",
    "    midi_gan = create_midi(generated_music,'4/4', 120,instrument.Piano())\n",
    "    midi_gan.show('midi')"
   ]
  },
  {
   "cell_type": "code",
   "execution_count": 2,
   "metadata": {},
   "outputs": [
    {
     "data": {
      "text/plain": [
       "PosixPath('/Users/karladsj/Documents/Semestre I/IA/Miausic/models/gan/wheretosavethefile.pdf')"
      ]
     },
     "execution_count": 2,
     "metadata": {},
     "output_type": "execute_result"
    }
   ],
   "source": [
    "midi_gan.write('musicxml.pdf', fp='wheretosavethefile.pdf')"
   ]
  },
  {
   "cell_type": "code",
   "execution_count": 9,
   "metadata": {},
   "outputs": [
    {
     "data": {
      "text/plain": [
       "array(['B-4', 'B-3', 'F4', ..., 'G#', 'A#', 'B'], dtype='<U33')"
      ]
     },
     "execution_count": 9,
     "metadata": {},
     "output_type": "execute_result"
    }
   ],
   "source": [
    "np.array(list(notes['pitch'])+scales.Major('B').ascending())"
   ]
  },
  {
   "cell_type": "code",
   "execution_count": 3,
   "metadata": {},
   "outputs": [
    {
     "data": {
      "text/plain": [
       "['C', 'D', 'Eb', 'F', 'G', 'Ab', 'Bb', 'C']"
      ]
     },
     "execution_count": 3,
     "metadata": {},
     "output_type": "execute_result"
    }
   ],
   "source": [
    "scales.NaturalMinor('C').ascending()+scales.NaturalMinor('C').descending()"
   ]
  },
  {
   "cell_type": "code",
   "execution_count": 4,
   "metadata": {},
   "outputs": [
    {
     "data": {
      "text/plain": [
       "{'Ab', 'Bb', 'C', 'D', 'Eb', 'F', 'G'}"
      ]
     },
     "execution_count": 4,
     "metadata": {},
     "output_type": "execute_result"
    }
   ],
   "source": [
    "set(scales.NaturalMinor('C').ascending()+scales.NaturalMinor('C').descending())"
   ]
  },
  {
   "cell_type": "code",
   "execution_count": null,
   "metadata": {},
   "outputs": [],
   "source": []
  }
 ],
 "metadata": {
  "kernelspec": {
   "display_name": "venv",
   "language": "python",
   "name": "python3"
  },
  "language_info": {
   "codemirror_mode": {
    "name": "ipython",
    "version": 3
   },
   "file_extension": ".py",
   "mimetype": "text/x-python",
   "name": "python",
   "nbconvert_exporter": "python",
   "pygments_lexer": "ipython3",
   "version": "3.9.6"
  }
 },
 "nbformat": 4,
 "nbformat_minor": 2
}
